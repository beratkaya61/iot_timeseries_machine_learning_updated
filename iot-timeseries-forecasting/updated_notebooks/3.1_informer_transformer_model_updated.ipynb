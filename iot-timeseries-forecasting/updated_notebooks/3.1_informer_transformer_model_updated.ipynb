{
 "cells": [
  {
   "cell_type": "code",
   "execution_count": 1,
   "id": "ad544107",
   "metadata": {},
   "outputs": [],
   "source": [
    "# 📦 Step 1: Import Libraries\n",
    "import torch\n",
    "import torch.nn as nn\n",
    "from torch.utils.data import DataLoader, Dataset\n",
    "import pandas as pd\n",
    "import numpy as np\n",
    "import matplotlib.pyplot as plt\n",
    "from sklearn.preprocessing import MinMaxScaler\n",
    "from sklearn.metrics import mean_squared_error, mean_absolute_error\n",
    "import os\n",
    "import sys\n"
   ]
  },
  {
   "cell_type": "code",
   "execution_count": 2,
   "id": "99afb9a9",
   "metadata": {},
   "outputs": [
    {
     "name": "stdout",
     "output_type": "stream",
     "text": [
      "Using: cpu\n"
     ]
    }
   ],
   "source": [
    "sys.path.append('../')  # Import custom models\n",
    "\n",
    "from models.timeseries_dataset_class import TimeSeriesDataset\n",
    "from models.transformer_model_definitions import ProbSparseSelfAttention, InformerBlock, InformerForecast\n",
    "\n",
    "\n",
    "# ✅ GPU Support\n",
    "device = torch.device(\"cuda\" if torch.cuda.is_available() else \"cpu\")\n",
    "print(\"Using:\", device)"
   ]
  },
  {
   "cell_type": "code",
   "execution_count": 3,
   "id": "40c9034a",
   "metadata": {},
   "outputs": [],
   "source": [
    "\n",
    "# 📂 Step 2: Load Train/Val/Test Data\n",
    "train_df = pd.read_csv(\"../data/processed/etth1_train.csv\", parse_dates=[\"date\"], index_col=\"date\")\n",
    "val_df = pd.read_csv(\"../data/processed/etth1_val.csv\", parse_dates=[\"date\"], index_col=\"date\")\n",
    "test_df = pd.read_csv(\"../data/processed/etth1_test.csv\", parse_dates=[\"date\"], index_col=\"date\")\n"
   ]
  },
  {
   "cell_type": "code",
   "execution_count": 4,
   "id": "af3e3025",
   "metadata": {},
   "outputs": [],
   "source": [
    "#parameters\n",
    "\n",
    "target_column = \"OT\"\n",
    "window_size = 96\n",
    "batch_size = 32\n",
    "epochs = 10\n",
    "learning_rate = 1e-3"
   ]
  },
  {
   "cell_type": "code",
   "execution_count": 5,
   "id": "b0fbdae0",
   "metadata": {},
   "outputs": [],
   "source": [
    "# 🔄 Step 3: Dataloaders\n",
    "train_loader = DataLoader(TimeSeriesDataset(train_df[target_column].values, window_size),\n",
    "                          batch_size=batch_size, shuffle=True)\n",
    "val_loader = DataLoader(TimeSeriesDataset(val_df[target_column].values, window_size),\n",
    "                        batch_size=batch_size, shuffle=False)\n",
    "test_loader = DataLoader(TimeSeriesDataset(test_df[target_column].values, window_size),\n",
    "                         batch_size=batch_size, shuffle=False)"
   ]
  },
  {
   "cell_type": "code",
   "execution_count": 6,
   "id": "fde1a9e7",
   "metadata": {},
   "outputs": [
    {
     "name": "stdout",
     "output_type": "stream",
     "text": [
      "[Epoch 1] Train Loss: 0.0081\n",
      "[Epoch 2] Train Loss: 0.0005\n",
      "[Epoch 3] Train Loss: 0.0005\n",
      "[Epoch 4] Train Loss: 0.0005\n",
      "[Epoch 5] Train Loss: 0.0005\n",
      "[Epoch 6] Train Loss: 0.0005\n",
      "[Epoch 7] Train Loss: 0.0005\n",
      "[Epoch 8] Train Loss: 0.0005\n",
      "[Epoch 9] Train Loss: 0.0005\n",
      "[Epoch 10] Train Loss: 0.0005\n"
     ]
    }
   ],
   "source": [
    "# ⚙️ Step 4: Train Informer Model\n",
    "model = InformerForecast().to(device)\n",
    "loss_fn = nn.MSELoss()\n",
    "optimizer = torch.optim.Adam(model.parameters(), lr=learning_rate)\n",
    "\n",
    "for epoch in range(epochs):\n",
    "    model.train()\n",
    "    total_loss = 0\n",
    "    for x, y in train_loader:\n",
    "        x, y = x.to(device), y.to(device).unsqueeze(1)\n",
    "        pred = model(x)\n",
    "        loss = loss_fn(pred, y)\n",
    "\n",
    "        optimizer.zero_grad()\n",
    "        loss.backward()\n",
    "        optimizer.step()\n",
    "        total_loss += loss.item()\n",
    "    print(f\"[Epoch {epoch+1}] Train Loss: {total_loss / len(train_loader):.4f}\")"
   ]
  },
  {
   "cell_type": "code",
   "execution_count": 7,
   "id": "e4129b15",
   "metadata": {},
   "outputs": [
    {
     "name": "stdout",
     "output_type": "stream",
     "text": [
      "✅ Model saved\n"
     ]
    }
   ],
   "source": [
    "# 💾 Save model\n",
    "os.makedirs(\"../models/checkpoints\", exist_ok=True)\n",
    "torch.save(model.state_dict(), \"../models/checkpoints/informer_transformer_model.pth\")\n",
    "print(\"✅ Model saved\")\n"
   ]
  },
  {
   "cell_type": "code",
   "execution_count": 8,
   "id": "97e011be",
   "metadata": {},
   "outputs": [],
   "source": [
    "# 📊 Step 5: Define Evaluation Function\n",
    "def smape(y_true, y_pred):\n",
    "    denominator = (np.abs(y_true) + np.abs(y_pred)) / 2.0\n",
    "    diff = np.abs(y_true - y_pred) / denominator\n",
    "    diff[denominator == 0] = 0.0\n",
    "    return 100 * np.mean(diff)\n"
   ]
  },
  {
   "cell_type": "code",
   "execution_count": 9,
   "id": "267b7d4f",
   "metadata": {},
   "outputs": [],
   "source": [
    "def evaluate_model(dataloader, dataset_df, title, file_prefix):\n",
    "    model.eval()\n",
    "    preds, trues = [], []\n",
    "    with torch.no_grad():\n",
    "        for x, y in dataloader:\n",
    "            x, y = x.to(device), y.to(device).unsqueeze(1)\n",
    "            pred = model(x)\n",
    "            preds.append(pred.cpu().numpy())\n",
    "            trues.append(y.cpu().numpy())\n",
    "\n",
    "    predictions = np.concatenate(preds, axis=0).flatten()\n",
    "    true_values = np.concatenate(trues, axis=0).flatten()\n",
    "\n",
    "    # Inverse transform (only OT column)\n",
    "    dummy_shape = (predictions.shape[0], dataset_df.shape[1])\n",
    "    predictions_full = np.zeros(dummy_shape)\n",
    "    true_values_full = np.zeros(dummy_shape)\n",
    "    predictions_full[:, -1] = predictions\n",
    "    true_values_full[:, -1] = true_values\n",
    "\n",
    "    scaler = MinMaxScaler()\n",
    "    scaler.fit(dataset_df)\n",
    "    predictions = scaler.inverse_transform(predictions_full)[:, -1]\n",
    "    true_values = scaler.inverse_transform(true_values_full)[:, -1]\n",
    "\n",
    "    # Calculate metrics\n",
    "    mse = mean_squared_error(true_values, predictions)\n",
    "    mae = mean_absolute_error(true_values, predictions)\n",
    "    smape_val = smape(true_values, predictions)\n",
    "\n",
    "    print(f\"📊 {title}\")\n",
    "    print(f\" - MSE   : {mse:.6f}\")\n",
    "    print(f\" - MAE   : {mae:.6f}\")\n",
    "    print(f\" - SMAPE : {smape_val:.2f}%\")\n",
    "\n",
    "    # Plot\n",
    "    os.makedirs(f\"../../outputs/metrics/informer\", exist_ok=True)\n",
    "    plt.figure(figsize=(12, 6))\n",
    "    plt.plot(true_values[:100], label=\"True\")\n",
    "    plt.plot(predictions[:100], label=\"Predicted\")\n",
    "    plt.title(title)\n",
    "    plt.legend()\n",
    "    plt.grid(True)\n",
    "    plt.savefig(f\"../../outputs/metrics/informer/{file_prefix}_plot.png\")\n",
    "    print(f\"✅ Plot saved to ../../outputs/metrics/informer/{file_prefix}_plot.png\")\n",
    "    plt.close()\n",
    "\n",
    "    # Save CSV\n",
    "    pd.DataFrame({\n",
    "        \"True Values\": true_values,\n",
    "        \"Predictions\": predictions\n",
    "    }).to_csv(f\"../../outputs/metrics/informer/{file_prefix}_results.csv\", index=False)\n",
    "    print(f\"✅ Results saved to ../../outputs/metrics/informer/{file_prefix}_results.csv\\n\")\n",
    "\n"
   ]
  },
  {
   "cell_type": "code",
   "execution_count": 10,
   "id": "e6b978d0",
   "metadata": {},
   "outputs": [
    {
     "name": "stdout",
     "output_type": "stream",
     "text": [
      "📊 📈 Train Set Forecast vs True\n",
      " - MSE   : 0.000383\n",
      " - MAE   : 0.013330\n",
      " - SMAPE : 4.35%\n",
      "✅ Plot saved to ../../outputs/metrics/informer/train_plot.png\n",
      "✅ Results saved to ../../outputs/metrics/informer/train_results.csv\n",
      "\n"
     ]
    },
    {
     "name": "stderr",
     "output_type": "stream",
     "text": [
      "/var/folders/s8/pp3cmgsj1h3gqdc1dpxr6yzm0000gn/T/ipykernel_15616/2992982391.py:44: UserWarning: Glyph 128200 (\\N{CHART WITH UPWARDS TREND}) missing from font(s) DejaVu Sans.\n",
      "  plt.savefig(f\"../../outputs/metrics/informer/{file_prefix}_plot.png\")\n"
     ]
    },
    {
     "name": "stdout",
     "output_type": "stream",
     "text": [
      "📊 📈 Validation Set Forecast vs True\n",
      " - MSE   : 0.000014\n",
      " - MAE   : 0.002651\n",
      " - SMAPE : 2.25%\n",
      "✅ Plot saved to ../../outputs/metrics/informer/val_plot.png\n",
      "✅ Results saved to ../../outputs/metrics/informer/val_results.csv\n",
      "\n"
     ]
    },
    {
     "name": "stderr",
     "output_type": "stream",
     "text": [
      "/var/folders/s8/pp3cmgsj1h3gqdc1dpxr6yzm0000gn/T/ipykernel_15616/2992982391.py:44: UserWarning: Glyph 128200 (\\N{CHART WITH UPWARDS TREND}) missing from font(s) DejaVu Sans.\n",
      "  plt.savefig(f\"../../outputs/metrics/informer/{file_prefix}_plot.png\")\n"
     ]
    },
    {
     "name": "stdout",
     "output_type": "stream",
     "text": [
      "📊 📈 Test Set Forecast vs True\n",
      " - MSE   : 0.000014\n",
      " - MAE   : 0.002511\n",
      " - SMAPE : 1.14%\n",
      "✅ Plot saved to ../../outputs/metrics/informer/test_plot.png\n",
      "✅ Results saved to ../../outputs/metrics/informer/test_results.csv\n",
      "\n"
     ]
    },
    {
     "name": "stderr",
     "output_type": "stream",
     "text": [
      "/var/folders/s8/pp3cmgsj1h3gqdc1dpxr6yzm0000gn/T/ipykernel_15616/2992982391.py:44: UserWarning: Glyph 128200 (\\N{CHART WITH UPWARDS TREND}) missing from font(s) DejaVu Sans.\n",
      "  plt.savefig(f\"../../outputs/metrics/informer/{file_prefix}_plot.png\")\n"
     ]
    }
   ],
   "source": [
    "# 📈 Step 6: Run Evaluation on All Splits\n",
    "evaluate_model(train_loader, train_df, \"📈 Train Set Forecast vs True\", \"train\")\n",
    "evaluate_model(val_loader, val_df, \"📈 Validation Set Forecast vs True\", \"val\")\n",
    "evaluate_model(test_loader, test_df, \"📈 Test Set Forecast vs True\", \"test\")"
   ]
  },
  {
   "cell_type": "code",
   "execution_count": 11,
   "id": "93173458",
   "metadata": {},
   "outputs": [],
   "source": [
    "# ✅ Next Steps?\n",
    "\n",
    "# Would you like help with:\n",
    "\n",
    "# Multi-step forecasting instead of 1-step?\n",
    "\n",
    "# Multi-variate forecasting (use all features)?\n",
    "\n",
    "# Transformer + embedding visualization?"
   ]
  }
 ],
 "metadata": {
  "kernelspec": {
   "display_name": ".venv",
   "language": "python",
   "name": "python3"
  },
  "language_info": {
   "codemirror_mode": {
    "name": "ipython",
    "version": 3
   },
   "file_extension": ".py",
   "mimetype": "text/x-python",
   "name": "python",
   "nbconvert_exporter": "python",
   "pygments_lexer": "ipython3",
   "version": "3.13.3"
  }
 },
 "nbformat": 4,
 "nbformat_minor": 5
}
