{
 "cells": [
  {
   "cell_type": "code",
   "execution_count": 1,
   "id": "ca09e478",
   "metadata": {},
   "outputs": [],
   "source": [
    "\n",
    "import pandas as pd\n",
    "import os\n",
    "\n",
    "WINDOW_SIZE = 10\n",
    "PREDICT_SIZE = 1\n",
    "\n",
    "# Paths to split datasets\n",
    "TRAIN_FILE = \"../data/processed/etth1_train.csv\"\n",
    "VAL_FILE = \"../data/processed/etth1_val.csv\"\n",
    "OUTPUT_DIR = \"../data/llm_preprocessed/\"\n",
    "\n",
    "os.makedirs(OUTPUT_DIR, exist_ok=True)"
   ]
  },
  {
   "cell_type": "code",
   "execution_count": 2,
   "id": "2bcf199c",
   "metadata": {},
   "outputs": [],
   "source": [
    "def generate_prompt_target_pairs(values, window_size, predict_size):\n",
    "    inputs, targets = [], []\n",
    "    for i in range(len(values) - window_size - predict_size):\n",
    "        input_seq = values[i : i + window_size]\n",
    "        target_seq = values[i + window_size : i + window_size + predict_size]\n",
    "        prompt = f\"Given past values: {input_seq}, predict next {predict_size} value(s):\"\n",
    "        target = str(target_seq)\n",
    "        inputs.append(prompt)\n",
    "        targets.append(target)\n",
    "    return inputs, targets"
   ]
  },
  {
   "cell_type": "code",
   "execution_count": 3,
   "id": "7b002d71",
   "metadata": {},
   "outputs": [],
   "source": [
    "# 🔹 1. Load train and val sets\n",
    "train_df = pd.read_csv(TRAIN_FILE)\n",
    "val_df = pd.read_csv(VAL_FILE)\n",
    "\n",
    "train_values = train_df['OT'].tolist()\n",
    "val_values = val_df['OT'].tolist()"
   ]
  },
  {
   "cell_type": "code",
   "execution_count": 4,
   "id": "98890a97",
   "metadata": {},
   "outputs": [],
   "source": [
    "# 🔹 2. Generate prompt-target pairs\n",
    "train_inputs, train_targets = generate_prompt_target_pairs(train_values, WINDOW_SIZE, PREDICT_SIZE)\n",
    "val_inputs, val_targets = generate_prompt_target_pairs(val_values, WINDOW_SIZE, PREDICT_SIZE)"
   ]
  },
  {
   "cell_type": "code",
   "execution_count": 6,
   "id": "caa16ffe",
   "metadata": {},
   "outputs": [],
   "source": [
    "\n",
    "# 🔹 3. Save the preprocessed LLM inputs\n",
    "pd.DataFrame({\"prompt\": train_inputs, \"completion\": train_targets}).to_csv(f\"{OUTPUT_DIR}/train.csv\", index=False)\n",
    "pd.DataFrame({\"prompt\": val_inputs, \"completion\": val_targets}).to_csv(f\"{OUTPUT_DIR}/val.csv\", index=False)\n"
   ]
  },
  {
   "cell_type": "code",
   "execution_count": 7,
   "id": "cbdf865e",
   "metadata": {},
   "outputs": [
    {
     "name": "stdout",
     "output_type": "stream",
     "text": [
      "Sample prompt-target pairs:\n",
      "Prompt: Given past values: [0.6910176320171663, 0.6362329675922095, 0.6362329675922095, 0.5814682574604971, 0.5196557975809077, 0.5042026826110103, 0.5365064746921488, 0.5435342320660694, 0.5140455566415751, 0.4297721787114119], predict next 1 value(s):\n",
      "Completion: [0.4803442024190923]\n",
      "\n",
      "Prompt: Given past values: [0.6362329675922095, 0.6362329675922095, 0.5814682574604971, 0.5196557975809077, 0.5042026826110103, 0.5365064746921488, 0.5435342320660694, 0.5140455566415751, 0.4297721787114119, 0.4803442024190923], predict next 1 value(s):\n",
      "Completion: [0.4831393267017803]\n",
      "\n",
      "Prompt: Given past values: [0.6362329675922095, 0.5814682574604971, 0.5196557975809077, 0.5042026826110103, 0.5365064746921488, 0.5435342320660694, 0.5140455566415751, 0.4297721787114119, 0.4803442024190923, 0.4831393267017803], predict next 1 value(s):\n",
      "Completion: [0.464891087449195]\n",
      "\n",
      "✅ Preprocessing done!\n",
      "→ 13925 train samples saved to ../data/llm_preprocessed//train.csv\n",
      "→ 1731 val samples saved to ../data/llm_preprocessed//val.csv\n"
     ]
    }
   ],
   "source": [
    "# 🔹 4. Print sample\n",
    "print(\"Sample prompt-target pairs:\")\n",
    "for i in range(3):\n",
    "    print(f\"Prompt: {train_inputs[i]}\")\n",
    "    print(f\"Completion: {train_targets[i]}\\n\")\n",
    "\n",
    "print(f\"✅ Preprocessing done!\\n→ {len(train_inputs)} train samples saved to {OUTPUT_DIR}/train.csv\\n→ {len(val_inputs)} val samples saved to {OUTPUT_DIR}/val.csv\")"
   ]
  }
 ],
 "metadata": {
  "kernelspec": {
   "display_name": ".venv",
   "language": "python",
   "name": "python3"
  },
  "language_info": {
   "codemirror_mode": {
    "name": "ipython",
    "version": 3
   },
   "file_extension": ".py",
   "mimetype": "text/x-python",
   "name": "python",
   "nbconvert_exporter": "python",
   "pygments_lexer": "ipython3",
   "version": "3.11.5"
  }
 },
 "nbformat": 4,
 "nbformat_minor": 5
}
