{
 "cells": [
  {
   "cell_type": "markdown",
   "id": "605b3780",
   "metadata": {},
   "source": [
    "📘 PatchTST for IoT Time Series Forecasting\n",
    "\n",
    "PatchTST treats a time series like an image:\n",
    "\t•\tSplits the series into small “patches” 🔲\n",
    "\t•\tEmbeds them like tokens\n",
    "\t•\tUses a pure Transformer (no convolutions or recurrence!)\n",
    "\n",
    "This makes PatchTST extremely strong on long sequence forecasting."
   ]
  },
  {
   "cell_type": "code",
   "execution_count": 1,
   "id": "a015c5d0",
   "metadata": {},
   "outputs": [],
   "source": [
    "# 📦 Step 1: Import Libraries\n",
    "import torch\n",
    "import torch.nn as nn\n",
    "from torch.utils.data import Dataset, DataLoader\n",
    "import pandas as pd\n",
    "import numpy as np\n",
    "import matplotlib.pyplot as plt\n",
    "from einops import rearrange\n",
    "from sklearn.preprocessing import MinMaxScaler\n",
    "from sklearn.metrics import mean_squared_error, mean_absolute_error\n",
    "import os\n",
    "import sys"
   ]
  },
  {
   "cell_type": "code",
   "execution_count": 2,
   "id": "9262a33c",
   "metadata": {},
   "outputs": [
    {
     "name": "stdout",
     "output_type": "stream",
     "text": [
      "Using: cpu\n"
     ]
    }
   ],
   "source": [
    "sys.path.append('../')  # Handle custom imports\n",
    "from models.transformer_model_definitions import PatchTST\n",
    "\n",
    "# ✅ Enable GPU\n",
    "device = torch.device(\"cuda\" if torch.cuda.is_available() else \"cpu\")\n",
    "print(\"Using:\", device)"
   ]
  },
  {
   "cell_type": "code",
   "execution_count": 3,
   "id": "77970523",
   "metadata": {},
   "outputs": [],
   "source": [
    "# 📂 Step 2: Load Preprocessed Splits\n",
    "train_df = pd.read_csv(\"../data/processed/etth1_train.csv\", parse_dates=[\"date\"], index_col=\"date\")\n",
    "val_df = pd.read_csv(\"../data/processed/etth1_val.csv\", parse_dates=[\"date\"], index_col=\"date\")\n",
    "test_df = pd.read_csv(\"../data/processed/etth1_test.csv\", parse_dates=[\"date\"], index_col=\"date\")\n"
   ]
  },
  {
   "cell_type": "code",
   "execution_count": 4,
   "id": "aa8d826a",
   "metadata": {},
   "outputs": [],
   "source": [
    "#parameters\n",
    "target_column = \"OT\"\n",
    "window_size = 96  # Must be divisible by patch_size\n",
    "patch_size = 8\n",
    "batch_size = 32\n",
    "epochs = 10\n"
   ]
  },
  {
   "cell_type": "code",
   "execution_count": 5,
   "id": "d46b618b",
   "metadata": {},
   "outputs": [],
   "source": [
    "# 🧩 Step 3: Create Dataset\n",
    "class TimeSeriesDataset(Dataset):\n",
    "    def __init__(self, series, window_size, patch_size):\n",
    "        self.series = torch.tensor(series, dtype=torch.float32)\n",
    "        self.window_size = window_size\n",
    "        self.patch_size = patch_size\n",
    "\n",
    "    def __len__(self): \n",
    "        return len(self.series) - self.window_size\n",
    "\n",
    "    def __getitem__(self, idx):\n",
    "        x = self.series[idx:idx+self.window_size]\n",
    "        y = self.series[idx+self.window_size]\n",
    "        patches = rearrange(x, '(p s) -> p s', s=self.patch_size)\n",
    "        return patches.unsqueeze(-1), y"
   ]
  },
  {
   "cell_type": "code",
   "execution_count": 6,
   "id": "009b6bc8",
   "metadata": {},
   "outputs": [],
   "source": [
    "# 🔄 Step 4: Dataloaders\n",
    "train_loader = DataLoader(TimeSeriesDataset(train_df[target_column].values, window_size, patch_size),\n",
    "                          batch_size=batch_size, shuffle=True)\n",
    "val_loader = DataLoader(TimeSeriesDataset(val_df[target_column].values, window_size, patch_size),\n",
    "                        batch_size=batch_size, shuffle=False)\n",
    "test_loader = DataLoader(TimeSeriesDataset(test_df[target_column].values, window_size, patch_size),\n",
    "                         batch_size=batch_size, shuffle=False)"
   ]
  },
  {
   "cell_type": "code",
   "execution_count": 7,
   "id": "196fe8cd",
   "metadata": {},
   "outputs": [
    {
     "name": "stdout",
     "output_type": "stream",
     "text": [
      "[Epoch 1] Train Loss: 0.0416\n",
      "[Epoch 2] Train Loss: 0.0043\n",
      "[Epoch 3] Train Loss: 0.0042\n",
      "[Epoch 4] Train Loss: 0.0039\n",
      "[Epoch 5] Train Loss: 0.0040\n",
      "[Epoch 6] Train Loss: 0.0038\n",
      "[Epoch 7] Train Loss: 0.0036\n",
      "[Epoch 8] Train Loss: 0.0036\n",
      "[Epoch 9] Train Loss: 0.0035\n",
      "[Epoch 10] Train Loss: 0.0031\n"
     ]
    }
   ],
   "source": [
    "\n",
    "# ⚙️ Step 5: Train PatchTST Model\n",
    "model = PatchTST(patch_size=patch_size, num_patches=window_size // patch_size).to(device)\n",
    "loss_fn = nn.MSELoss()\n",
    "optimizer = torch.optim.Adam(model.parameters(), lr=1e-3)\n",
    "\n",
    "for epoch in range(epochs):\n",
    "    model.train()\n",
    "    total_loss = 0\n",
    "    for x, y in train_loader:\n",
    "        x, y = x.to(device), y.to(device).unsqueeze(1)\n",
    "        pred = model(x)\n",
    "        loss = loss_fn(pred, y)\n",
    "\n",
    "        optimizer.zero_grad()\n",
    "        loss.backward()\n",
    "        optimizer.step()\n",
    "        total_loss += loss.item()\n",
    "    print(f\"[Epoch {epoch+1}] Train Loss: {total_loss / len(train_loader):.4f}\")\n"
   ]
  },
  {
   "cell_type": "code",
   "execution_count": 8,
   "id": "81eca9c2",
   "metadata": {},
   "outputs": [
    {
     "name": "stdout",
     "output_type": "stream",
     "text": [
      "✅ Model saved\n"
     ]
    }
   ],
   "source": [
    "\n",
    "# 💾 Save model\n",
    "os.makedirs(\"../models/checkpoints\", exist_ok=True)\n",
    "torch.save(model.state_dict(), \"../models/checkpoints/patchTST_transformer_model.pth\")\n",
    "print(\"✅ Model saved\")"
   ]
  },
  {
   "cell_type": "code",
   "execution_count": 9,
   "id": "cf340be5",
   "metadata": {},
   "outputs": [],
   "source": [
    "# 📊 Step 6: Define Evaluation\n",
    "def smape(y_true, y_pred):\n",
    "    denominator = (np.abs(y_true) + np.abs(y_pred)) / 2.0\n",
    "    diff = np.abs(y_true - y_pred) / denominator\n",
    "    diff[denominator == 0] = 0.0\n",
    "    return 100 * np.mean(diff)\n"
   ]
  },
  {
   "cell_type": "code",
   "execution_count": 10,
   "id": "1095c151",
   "metadata": {},
   "outputs": [],
   "source": [
    "def evaluate_model(dataloader, dataset_df, title, file_prefix):\n",
    "    model.eval()\n",
    "    preds, trues = [], []\n",
    "    with torch.no_grad():\n",
    "        for x, y in dataloader:\n",
    "            x, y = x.to(device), y.to(device).unsqueeze(1)\n",
    "            pred = model(x)\n",
    "            preds.append(pred.cpu().numpy())\n",
    "            trues.append(y.cpu().numpy())\n",
    "\n",
    "    predictions = np.concatenate(preds).flatten()\n",
    "    true_values = np.concatenate(trues).flatten()\n",
    "\n",
    "    # Inverse transform\n",
    "    dummy_shape = (predictions.shape[0], dataset_df.shape[1])\n",
    "    predictions_full = np.zeros(dummy_shape)\n",
    "    true_values_full = np.zeros(dummy_shape)\n",
    "    predictions_full[:, -1] = predictions\n",
    "    true_values_full[:, -1] = true_values\n",
    "\n",
    "    scaler = MinMaxScaler()\n",
    "    scaler.fit(dataset_df)\n",
    "    predictions = scaler.inverse_transform(predictions_full)[:, -1]\n",
    "    true_values = scaler.inverse_transform(true_values_full)[:, -1]\n",
    "\n",
    "    # Metrics\n",
    "    mse = mean_squared_error(true_values, predictions)\n",
    "    mae = mean_absolute_error(true_values, predictions)\n",
    "    smape_val = smape(true_values, predictions)\n",
    "\n",
    "    print(f\"📊 {title}\")\n",
    "    print(f\" - MSE   : {mse:.6f}\")\n",
    "    print(f\" - MAE   : {mae:.6f}\")\n",
    "    print(f\" - SMAPE : {smape_val:.2f}%\")\n",
    "\n",
    "    # Plot & save\n",
    "    output_dir = \"../../outputs/metrics/patchTST\"\n",
    "    os.makedirs(output_dir, exist_ok=True)\n",
    "    plt.figure(figsize=(12, 6))\n",
    "    plt.plot(true_values[:100], label=\"True\")\n",
    "    plt.plot(predictions[:100], label=\"Predicted\")\n",
    "    plt.title(title)\n",
    "    plt.legend()\n",
    "    plt.grid(True)\n",
    "    plt.savefig(f\"{output_dir}/{file_prefix}_plot.png\")\n",
    "    print(f\"✅ Plot saved to {output_dir}/{file_prefix}_plot.png\")\n",
    "    plt.close()\n",
    "\n",
    "    # Save CSV\n",
    "    pd.DataFrame({\n",
    "        \"True Values\": true_values,\n",
    "        \"Predictions\": predictions\n",
    "    }).to_csv(f\"{output_dir}/{file_prefix}_results.csv\", index=False)\n",
    "    print(f\"✅ Results saved to {output_dir}/{file_prefix}_results.csv\\n\")\n"
   ]
  },
  {
   "cell_type": "code",
   "execution_count": 11,
   "id": "ed3ce694",
   "metadata": {},
   "outputs": [
    {
     "name": "stdout",
     "output_type": "stream",
     "text": [
      "📊 📈 Train Set Forecast vs True\n",
      " - MSE   : 0.006373\n",
      " - MAE   : 0.067395\n",
      " - SMAPE : 20.55%\n",
      "✅ Plot saved to ../../outputs/metrics/patchTST/train_plot.png\n",
      "✅ Results saved to ../../outputs/metrics/patchTST/train_results.csv\n",
      "\n"
     ]
    },
    {
     "name": "stderr",
     "output_type": "stream",
     "text": [
      "/var/folders/s8/pp3cmgsj1h3gqdc1dpxr6yzm0000gn/T/ipykernel_15834/1469885757.py:45: UserWarning: Glyph 128200 (\\N{CHART WITH UPWARDS TREND}) missing from font(s) DejaVu Sans.\n",
      "  plt.savefig(f\"{output_dir}/{file_prefix}_plot.png\")\n"
     ]
    },
    {
     "name": "stdout",
     "output_type": "stream",
     "text": [
      "📊 📈 Validation Set Forecast vs True\n",
      " - MSE   : 0.000419\n",
      " - MAE   : 0.017423\n",
      " - SMAPE : 13.89%\n",
      "✅ Plot saved to ../../outputs/metrics/patchTST/val_plot.png\n",
      "✅ Results saved to ../../outputs/metrics/patchTST/val_results.csv\n",
      "\n"
     ]
    },
    {
     "name": "stderr",
     "output_type": "stream",
     "text": [
      "/var/folders/s8/pp3cmgsj1h3gqdc1dpxr6yzm0000gn/T/ipykernel_15834/1469885757.py:45: UserWarning: Glyph 128200 (\\N{CHART WITH UPWARDS TREND}) missing from font(s) DejaVu Sans.\n",
      "  plt.savefig(f\"{output_dir}/{file_prefix}_plot.png\")\n"
     ]
    },
    {
     "name": "stdout",
     "output_type": "stream",
     "text": [
      "📊 📈 Test Set Forecast vs True\n",
      " - MSE   : 0.000404\n",
      " - MAE   : 0.017387\n",
      " - SMAPE : 7.64%\n",
      "✅ Plot saved to ../../outputs/metrics/patchTST/test_plot.png\n",
      "✅ Results saved to ../../outputs/metrics/patchTST/test_results.csv\n",
      "\n"
     ]
    },
    {
     "name": "stderr",
     "output_type": "stream",
     "text": [
      "/var/folders/s8/pp3cmgsj1h3gqdc1dpxr6yzm0000gn/T/ipykernel_15834/1469885757.py:45: UserWarning: Glyph 128200 (\\N{CHART WITH UPWARDS TREND}) missing from font(s) DejaVu Sans.\n",
      "  plt.savefig(f\"{output_dir}/{file_prefix}_plot.png\")\n"
     ]
    }
   ],
   "source": [
    "\n",
    "# 📈 Step 7: Run Evaluation on Train/Val/Test\n",
    "evaluate_model(train_loader, train_df, \"📈 Train Set Forecast vs True\", \"train\")\n",
    "evaluate_model(val_loader, val_df, \"📈 Validation Set Forecast vs True\", \"val\")\n",
    "evaluate_model(test_loader, test_df, \"📈 Test Set Forecast vs True\", \"test\")"
   ]
  },
  {
   "cell_type": "code",
   "execution_count": 12,
   "id": "022e6676",
   "metadata": {},
   "outputs": [],
   "source": [
    "# ✅ Next Suggestions\n",
    "# Would you like help with:\n",
    "\n",
    "# Multi-step PatchTST forecasting?\n",
    "\n",
    "# Multivariate PatchTST support?\n",
    "\n",
    "# Leaderboard for all 4 models (LSTM, Informer, Autoformer, PatchTST)?"
   ]
  }
 ],
 "metadata": {
  "kernelspec": {
   "display_name": ".venv",
   "language": "python",
   "name": "python3"
  },
  "language_info": {
   "codemirror_mode": {
    "name": "ipython",
    "version": 3
   },
   "file_extension": ".py",
   "mimetype": "text/x-python",
   "name": "python",
   "nbconvert_exporter": "python",
   "pygments_lexer": "ipython3",
   "version": "3.13.3"
  }
 },
 "nbformat": 4,
 "nbformat_minor": 5
}
