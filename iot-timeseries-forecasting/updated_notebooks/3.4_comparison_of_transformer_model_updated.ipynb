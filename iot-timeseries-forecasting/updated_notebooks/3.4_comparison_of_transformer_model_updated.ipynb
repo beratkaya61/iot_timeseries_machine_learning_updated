{
 "cells": [
  {
   "cell_type": "code",
   "execution_count": 1,
   "id": "043b1579",
   "metadata": {},
   "outputs": [],
   "source": [
    "# 📊 Import required packages\n",
    "import matplotlib.pyplot as plt\n",
    "import pandas as pd\n",
    "import torch\n",
    "import torch.nn as nn\n",
    "from torch.utils.data import Dataset, DataLoader\n",
    "import numpy as np\n",
    "from einops import rearrange\n",
    "from sklearn.preprocessing import MinMaxScaler\n",
    "from sklearn.metrics import mean_squared_error, mean_absolute_error\n",
    "import sys\n",
    "sys.path.append('../')\n",
    "\n",
    "from models.timeseries_dataset_class import TimeSeriesDataset\n",
    "from models.transformer_model_definitions import InformerForecast, AutoformerForecast, PatchTST\n"
   ]
  },
  {
   "cell_type": "code",
   "execution_count": 2,
   "id": "7e1f4c06",
   "metadata": {},
   "outputs": [
    {
     "name": "stdout",
     "output_type": "stream",
     "text": [
      "Using: cpu\n"
     ]
    }
   ],
   "source": [
    "device = torch.device(\"cuda\" if torch.cuda.is_available() else \"cpu\")\n",
    "print(\"Using:\", device)\n"
   ]
  },
  {
   "cell_type": "code",
   "execution_count": 3,
   "id": "e91c4b2b",
   "metadata": {},
   "outputs": [],
   "source": [
    "# 📥 Load test dataset for fair comparison\n",
    "df_test = pd.read_csv('../data/processed/etth1_test.csv', parse_dates=[\"date\"], index_col=\"date\")\n",
    "target = df_test['OT'].values\n",
    "\n",
    "# Common settings\n",
    "window_size = 96\n",
    "batch_size = 32\n"
   ]
  },
  {
   "cell_type": "code",
   "execution_count": 4,
   "id": "260d2400",
   "metadata": {},
   "outputs": [],
   "source": [
    "# ✅ 1. Dataloader for Informer & Autoformer\n",
    "classic_dataloader = DataLoader(TimeSeriesDataset(target, window_size), batch_size=batch_size, shuffle=False)\n"
   ]
  },
  {
   "cell_type": "code",
   "execution_count": 5,
   "id": "7c822f9d",
   "metadata": {},
   "outputs": [],
   "source": [
    "# ✅ 2. Custom Dataset for PatchTST\n",
    "class PatchDataset(Dataset):\n",
    "    def __init__(self, series, window_size, patch_size):\n",
    "        self.series = torch.tensor(series, dtype=torch.float32)\n",
    "        self.window_size = window_size\n",
    "        self.patch_size = patch_size\n",
    "\n",
    "    def __len__(self):\n",
    "        return len(self.series) - self.window_size\n",
    "\n",
    "    def __getitem__(self, idx):\n",
    "        x = self.series[idx:idx+self.window_size]\n",
    "        y = self.series[idx+self.window_size]\n",
    "        patches = rearrange(x, '(p s) -> p s', s=self.patch_size)\n",
    "        return patches.unsqueeze(-1), y"
   ]
  },
  {
   "cell_type": "code",
   "execution_count": 6,
   "id": "965f7d04",
   "metadata": {},
   "outputs": [],
   "source": [
    "\n",
    "patch_size = 8\n",
    "patch_dataloader = DataLoader(PatchDataset(target, window_size, patch_size), batch_size=batch_size, shuffle=False)\n"
   ]
  },
  {
   "cell_type": "code",
   "execution_count": 7,
   "id": "67092357",
   "metadata": {},
   "outputs": [
    {
     "data": {
      "text/plain": [
       "PatchTST(\n",
       "  (patch_embed): Linear(in_features=8, out_features=64, bias=True)\n",
       "  (transformer): TransformerEncoder(\n",
       "    (layers): ModuleList(\n",
       "      (0-1): 2 x TransformerEncoderLayer(\n",
       "        (self_attn): MultiheadAttention(\n",
       "          (out_proj): NonDynamicallyQuantizableLinear(in_features=64, out_features=64, bias=True)\n",
       "        )\n",
       "        (linear1): Linear(in_features=64, out_features=2048, bias=True)\n",
       "        (dropout): Dropout(p=0.1, inplace=False)\n",
       "        (linear2): Linear(in_features=2048, out_features=64, bias=True)\n",
       "        (norm1): LayerNorm((64,), eps=1e-05, elementwise_affine=True)\n",
       "        (norm2): LayerNorm((64,), eps=1e-05, elementwise_affine=True)\n",
       "        (dropout1): Dropout(p=0.1, inplace=False)\n",
       "        (dropout2): Dropout(p=0.1, inplace=False)\n",
       "      )\n",
       "    )\n",
       "  )\n",
       "  (head): Linear(in_features=64, out_features=1, bias=True)\n",
       ")"
      ]
     },
     "execution_count": 7,
     "metadata": {},
     "output_type": "execute_result"
    }
   ],
   "source": [
    "# ✅ Load pre-trained models\n",
    "informer_model = InformerForecast().to(device)\n",
    "informer_model.load_state_dict(torch.load(\"../models/checkpoints/informer_transformer_model.pth\"))\n",
    "informer_model.eval()\n",
    "\n",
    "autoformer_model = AutoformerForecast().to(device)\n",
    "autoformer_model.load_state_dict(torch.load(\"../models/checkpoints/autoformer_transformer_model.pth\"))\n",
    "autoformer_model.eval()\n",
    "\n",
    "patchtst_model = PatchTST(patch_size=patch_size, num_patches=window_size // patch_size).to(device)\n",
    "patchtst_model.load_state_dict(torch.load(\"../models/checkpoints/patchTST_transformer_model.pth\"))\n",
    "patchtst_model.eval()"
   ]
  },
  {
   "cell_type": "code",
   "execution_count": 8,
   "id": "10b255c4",
   "metadata": {},
   "outputs": [],
   "source": [
    "# 📏 Metric functions\n",
    "def smape(y_true, y_pred):\n",
    "    denominator = (np.abs(y_true) + np.abs(y_pred)) / 2.0\n",
    "    diff = np.abs(y_true - y_pred) / denominator\n",
    "    diff[denominator == 0] = 0.0\n",
    "    return 100 * np.mean(diff)\n"
   ]
  },
  {
   "cell_type": "code",
   "execution_count": 9,
   "id": "f654f612",
   "metadata": {},
   "outputs": [],
   "source": [
    "# 🧪 Evaluation for Informer/Autoformer\n",
    "def evaluate_model(model, model_name, dataloader):\n",
    "    predictions, true_values = [], []\n",
    "    with torch.no_grad():\n",
    "        for x, y in dataloader:\n",
    "            x = x.to(device)\n",
    "            pred = model(x).cpu().numpy()\n",
    "            predictions.append(pred)\n",
    "            true_values.append(y.numpy())\n",
    "\n",
    "    predictions = np.concatenate(predictions).squeeze()\n",
    "    true_values = np.concatenate(true_values)\n",
    "\n",
    "    mse = mean_squared_error(true_values, predictions)\n",
    "    mae = mean_absolute_error(true_values, predictions)\n",
    "    smape_val = smape(true_values, predictions)\n",
    "    return {'Model': model_name, 'MSE': mse, 'MAE': mae, 'SMAPE': smape_val}\n",
    "\n"
   ]
  },
  {
   "cell_type": "code",
   "execution_count": 10,
   "id": "876f03df",
   "metadata": {},
   "outputs": [],
   "source": [
    "# 🧪 Evaluation for PatchTST\n",
    "def evaluate_patchtst(model, model_name, dataloader):\n",
    "    predictions, true_values = [], []\n",
    "    with torch.no_grad():\n",
    "        for x, y in dataloader:\n",
    "            x = x.to(device)\n",
    "            pred = model(x).cpu().numpy()\n",
    "            predictions.append(pred)\n",
    "            true_values.append(y.numpy())\n",
    "\n",
    "    predictions = np.concatenate(predictions).squeeze()\n",
    "    true_values = np.concatenate(true_values)\n",
    "\n",
    "    mse = mean_squared_error(true_values, predictions)\n",
    "    mae = mean_absolute_error(true_values, predictions)\n",
    "    smape_val = smape(true_values, predictions)\n",
    "    return {'Model': model_name, 'MSE': mse, 'MAE': mae, 'SMAPE': smape_val}\n",
    "\n"
   ]
  },
  {
   "cell_type": "code",
   "execution_count": 11,
   "id": "c9bdfc9e",
   "metadata": {},
   "outputs": [
    {
     "name": "stdout",
     "output_type": "stream",
     "text": [
      "        Model       MSE       MAE      SMAPE\n",
      "0    Informer  0.000192  0.009499   3.509358\n",
      "1  Autoformer  0.000540  0.020194   7.755660\n",
      "2    PatchTST  0.001378  0.029208  10.656594\n"
     ]
    }
   ],
   "source": [
    "\n",
    "# 🚀 Run all evaluations\n",
    "results = []\n",
    "results.append(evaluate_model(informer_model, 'Informer', classic_dataloader))\n",
    "results.append(evaluate_model(autoformer_model, 'Autoformer', classic_dataloader))\n",
    "results.append(evaluate_patchtst(patchtst_model, 'PatchTST', patch_dataloader))\n",
    "\n",
    "results_df = pd.DataFrame(results)\n",
    "print(results_df)"
   ]
  },
  {
   "cell_type": "code",
   "execution_count": 12,
   "id": "382f768f",
   "metadata": {},
   "outputs": [
    {
     "data": {
      "image/png": "[encoded data removed]",
      "text/plain": [
       "<Figure size 1800x500 with 3 Axes>"
      ]
     },
     "metadata": {},
     "output_type": "display_data"
    }
   ],
   "source": [
    "# 📊 Plot all metrics\n",
    "metrics = ['MSE', 'MAE', 'SMAPE']\n",
    "colors = ['skyblue', 'salmon', 'limegreen']\n",
    "\n",
    "fig, axs = plt.subplots(1, 3, figsize=(18, 5))\n",
    "for i, metric in enumerate(metrics):\n",
    "    axs[i].bar(results_df['Model'], results_df[metric], color=colors)\n",
    "    axs[i].set_title(f'{metric} Comparison')\n",
    "    axs[i].set_ylabel(metric)\n",
    "    axs[i].grid(True)\n",
    "\n",
    "plt.suptitle('Transformer Models Comparison on ETTh1 Test Set', fontsize=16)\n",
    "plt.tight_layout()\n",
    "plt.savefig('../../outputs/metrics/transformer_comparison_results.png')\n",
    "plt.show()"
   ]
  },
  {
   "cell_type": "code",
   "execution_count": 13,
   "id": "38b98487",
   "metadata": {},
   "outputs": [
    {
     "name": "stdout",
     "output_type": "stream",
     "text": [
      "✅ Comparison results saved to CSV and plot exported!\n"
     ]
    }
   ],
   "source": [
    "# 💾 Save results\n",
    "results_df.to_csv('../../outputs/metrics/transformer_comparison_results.csv', index=False)\n",
    "print(\"✅ Comparison results saved to CSV and plot exported!\")"
   ]
  }
 ],
 "metadata": {
  "kernelspec": {
   "display_name": ".venv",
   "language": "python",
   "name": "python3"
  },
  "language_info": {
   "codemirror_mode": {
    "name": "ipython",
    "version": 3
   },
   "file_extension": ".py",
   "mimetype": "text/x-python",
   "name": "python",
   "nbconvert_exporter": "python",
   "pygments_lexer": "ipython3",
   "version": "3.11.5"
  }
 },
 "nbformat": 4,
 "nbformat_minor": 5
}
