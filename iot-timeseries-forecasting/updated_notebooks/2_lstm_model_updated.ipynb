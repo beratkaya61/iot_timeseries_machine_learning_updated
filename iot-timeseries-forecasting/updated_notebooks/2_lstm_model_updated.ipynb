{
 "cells": [
  {
   "cell_type": "code",
   "execution_count": 1,
   "id": "977a7c48",
   "metadata": {},
   "outputs": [
    {
     "name": "stdout",
     "output_type": "stream",
     "text": [
      "True\n",
      "1\n",
      "12.1\n"
     ]
    }
   ],
   "source": [
    "# 📦 Step 0: Import Required Libraries\n",
    "import torch\n",
    "import torch.nn as nn\n",
    "from torch.utils.data import Dataset, DataLoader\n",
    "import pandas as pd\n",
    "import numpy as np\n",
    "import matplotlib.pyplot as plt\n",
    "from sklearn.metrics import mean_squared_error, mean_absolute_error\n",
    "import os\n",
    "\n",
    "print(torch.cuda.is_available())\n",
    "print(torch.cuda.device_count())\n",
    "print(torch.version.cuda)"
   ]
  },
  {
   "cell_type": "code",
   "execution_count": null,
   "id": "f63431b3",
   "metadata": {},
   "outputs": [],
   "source": [
    "# Add the parent directory to the Python path\n",
    "# to handle ModuleNotFoundError: No module named 'models' error\n",
    "import sys\n",
    "sys.path.append('../') \n",
    "\n",
    "from models.lstm_forecast_model import LSTMForecast\n",
    "from models.timeseries_dataset_class import TimeSeriesDataset\n",
    "\n",
    "\n",
    "# ✅ Enable GPU if available\n",
    "device = torch.device(\"cuda\" if torch.cuda.is_available() else \"cpu\")\n",
    "print(\"Using:\", device)"
   ]
  },
  {
   "cell_type": "code",
   "execution_count": null,
   "id": "14b7865a",
   "metadata": {},
   "outputs": [],
   "source": [
    "# Parameters\n",
    "window_size = 48\n",
    "batch_size = 32\n",
    "epochs = 10\n",
    "learning_rate = 1e-3\n",
    "target_column = \"OT\""
   ]
  },
  {
   "cell_type": "code",
   "execution_count": null,
   "id": "ea292e36",
   "metadata": {},
   "outputs": [],
   "source": [
    "# 📂 Step 1: Load split datasets\n",
    "train_df = pd.read_csv(\"../data/processed/etth1_train.csv\", parse_dates=[\"date\"], index_col=\"date\")\n",
    "val_df = pd.read_csv(\"../data/processed/etth1_val.csv\", parse_dates=[\"date\"], index_col=\"date\")\n",
    "test_df = pd.read_csv(\"../data/processed/etth1_test.csv\", parse_dates=[\"date\"], index_col=\"date\")\n",
    "\n",
    "train_target = train_df[target_column].values\n",
    "val_target = val_df[target_column].values\n",
    "test_target = test_df[target_column].values"
   ]
  },
  {
   "cell_type": "code",
   "execution_count": null,
   "id": "ab6e4352",
   "metadata": {},
   "outputs": [],
   "source": [
    "\n",
    "# 📊 Step 2: Prepare TimeSeriesDataset and DataLoaders\n",
    "\n",
    "train_loader = DataLoader(TimeSeriesDataset(train_target, window_size), batch_size=batch_size, shuffle=True)\n",
    "val_loader = DataLoader(TimeSeriesDataset(val_target, window_size), batch_size=batch_size, shuffle=False)\n",
    "test_loader = DataLoader(TimeSeriesDataset(test_target, window_size), batch_size=batch_size, shuffle=False)\n"
   ]
  },
  {
   "cell_type": "code",
   "execution_count": null,
   "id": "e03a2ece",
   "metadata": {},
   "outputs": [],
   "source": [
    "# ⚙️ Step 3: Define and Train the Model\n",
    "model = LSTMForecast().to(device)\n",
    "loss_fn = nn.MSELoss()\n",
    "optimizer = torch.optim.Adam(model.parameters(), lr=learning_rate)\n",
    "\n",
    "for epoch in range(epochs):\n",
    "    model.train()\n",
    "    total_loss = 0\n",
    "    for x, y in train_loader:\n",
    "        x, y = x.to(device), y.to(device).unsqueeze(1)\n",
    "        pred = model(x)\n",
    "        loss = loss_fn(pred, y)\n",
    "\n",
    "        optimizer.zero_grad()\n",
    "        loss.backward()\n",
    "        optimizer.step()\n",
    "        total_loss += loss.item()\n",
    "    print(f\"[Epoch {epoch+1}] Train Loss: {total_loss / len(train_loader):.4f}\")"
   ]
  },
  {
   "cell_type": "code",
   "execution_count": null,
   "id": "2f8aeaf8",
   "metadata": {},
   "outputs": [],
   "source": [
    "# 💾 Step 4: Save the trained model\n",
    "os.makedirs(\"../models/checkpoints\", exist_ok=True)\n",
    "torch.save(model.state_dict(), \"../models/checkpoints/lstm_model.pth\")\n",
    "print(\"✅ Model saved to checkpoints/lstm_model.pth\")"
   ]
  },
  {
   "cell_type": "code",
   "execution_count": null,
   "id": "24b8d21e",
   "metadata": {},
   "outputs": [],
   "source": [
    "# SMAPE calculation\n",
    "def smape(y_true, y_pred):\n",
    "    denominator = (np.abs(y_true) + np.abs(y_pred)) / 2.0\n",
    "    diff = np.abs(y_true - y_pred) / denominator\n",
    "    diff[denominator == 0] = 0.0  # Avoid division by zero\n",
    "    return 100 * np.mean(diff)\n"
   ]
  },
  {
   "cell_type": "code",
   "execution_count": null,
   "id": "fc0f8201",
   "metadata": {},
   "outputs": [],
   "source": [
    "# 📈 Step 5: Validate and Plot Predictions\n",
    "\n",
    "def evaluate_model(dataloader, title, plot_name):\n",
    "    model.eval()\n",
    "    all_preds = []\n",
    "    all_trues = []\n",
    "    with torch.no_grad():\n",
    "        for x, y in dataloader:\n",
    "            x = x.to(device)\n",
    "            pred = model(x).cpu().numpy()\n",
    "            all_preds.append(pred)\n",
    "            all_trues.append(y.numpy())\n",
    "\n",
    "\n",
    "    predictions = np.concatenate(all_preds)\n",
    "    truths = np.concatenate(all_trues)\n",
    "\n",
    "    plt.figure(figsize=(10, 5))\n",
    "    plt.plot(truths[:100], label=\"True\")\n",
    "    plt.plot(predictions[:100], label=\"Predicted\")\n",
    "    plt.legend()\n",
    "    plt.title(title)\n",
    "    plt.grid(True)\n",
    "    \n",
    "    os.makedirs(\"../../outputs\", exist_ok=True)\n",
    "    plt.savefig(f\"../../outputs/{plot_name}\")\n",
    "    print(f\"✅ Plot saved to outputs/{plot_name}\")\n",
    "    plt.show()\n",
    "\n",
    "\n",
    "    # 📊 Metrics\n",
    "    mse = mean_squared_error(truths, predictions)\n",
    "    mae = mean_absolute_error(truths, predictions)\n",
    "    smape_val = smape(truths, predictions)\n",
    "\n",
    "    print(f\"📊 {title} Metrics:\")\n",
    "    print(f\" - MSE   : {mse:.6f}\")\n",
    "    print(f\" - MAE   : {mae:.6f}\")\n",
    "    print(f\" - SMAPE : {smape_val:.2f}%\")\n",
    "    \n",
    "    return predictions, truths"
   ]
  },
  {
   "cell_type": "code",
   "execution_count": null,
   "id": "a2d603cc",
   "metadata": {},
   "outputs": [],
   "source": [
    "# Evaluate on validation and test sets\n",
    "evaluate_model(val_loader, \"📈 Validation Set Prediction vs Ground Truth\", \"lstm_model_val_predictions.png\")\n",
    "evaluate_model(test_loader, \"📈 Test Set Prediction vs Ground Truth\", \"lstm_model_test_predictions.png\")"
   ]
  }
 ],
 "metadata": {
  "kernelspec": {
   "display_name": ".venv",
   "language": "python",
   "name": "python3"
  },
  "language_info": {
   "codemirror_mode": {
    "name": "ipython",
    "version": 3
   },
   "file_extension": ".py",
   "mimetype": "text/x-python",
   "name": "python",
   "nbconvert_exporter": "python",
   "pygments_lexer": "ipython3",
   "version": "3.12.0"
  }
 },
 "nbformat": 4,
 "nbformat_minor": 5
}
