{
 "cells": [
  {
   "cell_type": "code",
   "execution_count": 1,
   "id": "b47b6ed9",
   "metadata": {},
   "outputs": [
    {
     "name": "stderr",
     "output_type": "stream",
     "text": [
      "c:\\Users\\aastm-sw\\Desktop\\Berat\\iot_timeseries_machine_learning_updated\\.venv\\Lib\\site-packages\\urllib3\\connectionpool.py:1097: InsecureRequestWarning: Unverified HTTPS request is being made to host 'raw.githubusercontent.com'. Adding certificate verification is strongly advised. See: https://urllib3.readthedocs.io/en/latest/advanced-usage.html#tls-warnings\n",
      "  warnings.warn(\n"
     ]
    },
    {
     "name": "stdout",
     "output_type": "stream",
     "text": [
      "✅ Dataset downloaded and saved at data/raw/ETTh1.csv\n",
      "                  date   HUFL   HULL   MUFL   MULL   LUFL   LULL         OT\n",
      "0  2016-07-01 00:00:00  5.827  2.009  1.599  0.462  4.203  1.340  30.531000\n",
      "1  2016-07-01 01:00:00  5.693  2.076  1.492  0.426  4.142  1.371  27.787001\n",
      "2  2016-07-01 02:00:00  5.157  1.741  1.279  0.355  3.777  1.218  27.787001\n",
      "3  2016-07-01 03:00:00  5.090  1.942  1.279  0.391  3.807  1.279  25.044001\n",
      "4  2016-07-01 04:00:00  5.358  1.942  1.492  0.462  3.868  1.279  21.948000\n"
     ]
    }
   ],
   "source": [
    "import pandas as pd\n",
    "import os\n",
    "\n",
    "import requests\n",
    "from io import StringIO\n",
    "\n",
    "# Download the dataset directly\n",
    "url = \"https://raw.githubusercontent.com/zhouhaoyi/ETDataset/main/ETT-small/ETTh1.csv\"\n",
    "\n",
    "response = requests.get(url, verify=False)  # Disable SSL verification\n",
    "response.raise_for_status()  # Ensure the request was successful\n",
    "\n",
    "df = pd.read_csv(StringIO(response.text))\n",
    "\n",
    "# Ensure the directory exists\n",
    "os.makedirs(\"../data/raw\", exist_ok=True)\n",
    "\n",
    "# Save it locally in your project structure\n",
    "df.to_csv(\"../data/raw/ETTh1.csv\", index=False)\n",
    "\n",
    "print(\"✅ Dataset downloaded and saved at data/raw/ETTh1.csv\")\n",
    "\n",
    "print(df.head())"
   ]
  },
  {
   "cell_type": "code",
   "execution_count": 2,
   "id": "704156fd",
   "metadata": {},
   "outputs": [
    {
     "name": "stderr",
     "output_type": "stream",
     "text": [
      "c:\\Users\\aastm-sw\\Desktop\\Berat\\iot_timeseries_machine_learning_updated\\.venv\\Lib\\site-packages\\urllib3\\connectionpool.py:1097: InsecureRequestWarning: Unverified HTTPS request is being made to host 'raw.githubusercontent.com'. Adding certificate verification is strongly advised. See: https://urllib3.readthedocs.io/en/latest/advanced-usage.html#tls-warnings\n",
      "  warnings.warn(\n"
     ]
    },
    {
     "name": "stdout",
     "output_type": "stream",
     "text": [
      "✅ Dataset downloaded and saved at data/raw/ETTh2.csv\n",
      "                  date       HUFL    HULL       MUFL   MULL   LUFL   LULL  \\\n",
      "0  2016-07-01 00:00:00  41.130001  12.481  36.535999  9.355  4.424  1.311   \n",
      "1  2016-07-01 01:00:00  37.528000  10.136  33.936001  7.532  4.435  1.215   \n",
      "2  2016-07-01 02:00:00  37.946999  11.309  35.330002  9.007  2.100  0.000   \n",
      "3  2016-07-01 03:00:00  38.952000  11.895  35.543999  9.436  3.380  1.215   \n",
      "4  2016-07-01 04:00:00  38.113998  11.476  35.410000  9.623  2.036  0.000   \n",
      "\n",
      "          OT  \n",
      "0  38.661999  \n",
      "1  37.124001  \n",
      "2  36.465000  \n",
      "3  33.608501  \n",
      "4  31.850500  \n"
     ]
    }
   ],
   "source": [
    "\n",
    "url_etth2 = \"https://raw.githubusercontent.com/zhouhaoyi/ETDataset/main/ETT-small/ETTh2.csv\"\n",
    "\n",
    "response_etth2 = requests.get(url_etth2, verify=False)  # Disable SSL verification\n",
    "response_etth2.raise_for_status()  # Ensure the request was successful\n",
    "\n",
    "df_etth2 = pd.read_csv(StringIO(response_etth2.text))\n",
    "\n",
    "# Ensure the directory exists\n",
    "os.makedirs(\"../data/raw\", exist_ok=True)\n",
    "\n",
    "# Save it locally in your project structure\n",
    "df_etth2.to_csv(\"../data/raw/ETTh2.csv\", index=False)\n",
    "\n",
    "print(\"✅ Dataset downloaded and saved at data/raw/ETTh2.csv\")\n",
    "\n",
    "print(df_etth2.head())"
   ]
  }
 ],
 "metadata": {
  "kernelspec": {
   "display_name": ".venv",
   "language": "python",
   "name": "python3"
  },
  "language_info": {
   "codemirror_mode": {
    "name": "ipython",
    "version": 3
   },
   "file_extension": ".py",
   "mimetype": "text/x-python",
   "name": "python",
   "nbconvert_exporter": "python",
   "pygments_lexer": "ipython3",
   "version": "3.12.0"
  }
 },
 "nbformat": 4,
 "nbformat_minor": 5
}
