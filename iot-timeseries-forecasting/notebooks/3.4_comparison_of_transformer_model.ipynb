{
 "cells": [
  {
   "cell_type": "code",
   "execution_count": 1,
   "metadata": {},
   "outputs": [
    {
     "name": "stdout",
     "output_type": "stream",
     "text": [
      "Using: cpu\n"
     ]
    }
   ],
   "source": [
    "# 📊 Import required packages\n",
    "import matplotlib.pyplot as plt\n",
    "import pandas as pd\n",
    "import torch\n",
    "import torch.nn as nn\n",
    "from torch.utils.data import Dataset, DataLoader\n",
    "import numpy as np\n",
    "from einops import rearrange\n",
    "from sklearn.preprocessing import MinMaxScaler\n",
    "from sklearn.metrics import mean_squared_error, mean_absolute_error\n",
    "\n",
    "import sys\n",
    "sys.path.append('../')\n",
    "\n",
    "from models.timeseries_dataset_class import TimeSeriesDataset\n",
    "\n",
    "device = torch.device(\"cuda\" if torch.cuda.is_available() else \"cpu\")\n",
    "print(\"Using:\", device)"
   ]
  },
  {
   "cell_type": "code",
   "execution_count": 2,
   "metadata": {},
   "outputs": [
    {
     "data": {
      "text/plain": [
       "PatchTST(\n",
       "  (patch_embed): Linear(in_features=8, out_features=64, bias=True)\n",
       "  (transformer): TransformerEncoder(\n",
       "    (layers): ModuleList(\n",
       "      (0-1): 2 x TransformerEncoderLayer(\n",
       "        (self_attn): MultiheadAttention(\n",
       "          (out_proj): NonDynamicallyQuantizableLinear(in_features=64, out_features=64, bias=True)\n",
       "        )\n",
       "        (linear1): Linear(in_features=64, out_features=2048, bias=True)\n",
       "        (dropout): Dropout(p=0.1, inplace=False)\n",
       "        (linear2): Linear(in_features=2048, out_features=64, bias=True)\n",
       "        (norm1): LayerNorm((64,), eps=1e-05, elementwise_affine=True)\n",
       "        (norm2): LayerNorm((64,), eps=1e-05, elementwise_affine=True)\n",
       "        (dropout1): Dropout(p=0.1, inplace=False)\n",
       "        (dropout2): Dropout(p=0.1, inplace=False)\n",
       "      )\n",
       "    )\n",
       "  )\n",
       "  (head): Linear(in_features=64, out_features=1, bias=True)\n",
       ")"
      ]
     },
     "execution_count": 2,
     "metadata": {},
     "output_type": "execute_result"
    }
   ],
   "source": [
    "# 📥 Import real models\n",
    "\n",
    "from models.transformer_model_definitions import InformerForecast, AutoformerForecast, PatchTST\n",
    "\n",
    "# 📥 Load trained models (optional)\n",
    "informer_model = InformerForecast().to(device)\n",
    "informer_model.load_state_dict(torch.load(\"../models/checkpoints/informer_transformer_model.pth\"))\n",
    "informer_model.eval()\n",
    "\n",
    "autoformer_model = AutoformerForecast().to(device)\n",
    "autoformer_model.load_state_dict(torch.load(\"../models/checkpoints/autoformer_transformer_model.pth\"))\n",
    "autoformer_model.eval()\n",
    "\n",
    "patchtst_model = PatchTST().to(device)\n",
    "patchtst_model.load_state_dict(torch.load(\"../models/checkpoints/patchtst_transformer_model.pth\"))\n",
    "patchtst_model.eval()"
   ]
  },
  {
   "cell_type": "code",
   "execution_count": 3,
   "metadata": {},
   "outputs": [],
   "source": [
    "# 📂 Load preprocessed dataset\n",
    "df = pd.read_csv('../data/processed/etth1_processed.csv', parse_dates=[\"date\"], index_col=\"date\")\n",
    "target = df['OT'].values"
   ]
  },
  {
   "cell_type": "code",
   "execution_count": 4,
   "metadata": {},
   "outputs": [
    {
     "name": "stdout",
     "output_type": "stream",
     "text": [
      "✅ DataLoader ready!\n"
     ]
    }
   ],
   "source": [
    "\n",
    "# 🔄 DataLoader\n",
    "window_size = 96\n",
    "batch_size = 32\n",
    "\n",
    "dataset = TimeSeriesDataset(target, window_size)\n",
    "dataloader = DataLoader(dataset, batch_size=batch_size, shuffle=False)\n",
    "\n",
    "print(\"✅ DataLoader ready!\")"
   ]
  },
  {
   "cell_type": "code",
   "execution_count": 5,
   "metadata": {},
   "outputs": [],
   "source": [
    "def smape(y_true, y_pred):\n",
    "    return 100 * np.mean(2 * np.abs(y_pred - y_true) / (np.abs(y_true) + np.abs(y_pred) + 1e-8))"
   ]
  },
  {
   "cell_type": "code",
   "execution_count": 6,
   "metadata": {},
   "outputs": [],
   "source": [
    "# You don’t need to recreate models inside evaluation now.\n",
    "# Evaluate pre-loaded models\n",
    "def evaluate_loaded_model(model, model_name):\n",
    "    preds, trues = [], []\n",
    "    for x, y in dataloader:\n",
    "        x, y = x.to(device), y.numpy()\n",
    "        with torch.no_grad():\n",
    "            pred = model(x).cpu().numpy()\n",
    "        preds.append(pred)\n",
    "        trues.append(y)\n",
    "    preds = np.concatenate(preds).squeeze()\n",
    "    trues = np.concatenate(trues)\n",
    "    mse = mean_squared_error(trues, preds)\n",
    "    mae = mean_absolute_error(trues, preds)\n",
    "    s_mape = smape(trues, preds)\n",
    "    return {'Model': model_name, 'MSE': mse, 'MAE': mae, 'SMAPE': s_mape}"
   ]
  },
  {
   "cell_type": "code",
   "execution_count": 7,
   "metadata": {},
   "outputs": [
    {
     "data": {
      "text/html": [
       "<div>\n",
       "<style scoped>\n",
       "    .dataframe tbody tr th:only-of-type {\n",
       "        vertical-align: middle;\n",
       "    }\n",
       "\n",
       "    .dataframe tbody tr th {\n",
       "        vertical-align: top;\n",
       "    }\n",
       "\n",
       "    .dataframe thead th {\n",
       "        text-align: right;\n",
       "    }\n",
       "</style>\n",
       "<table border=\"1\" class=\"dataframe\">\n",
       "  <thead>\n",
       "    <tr style=\"text-align: right;\">\n",
       "      <th></th>\n",
       "      <th>Model</th>\n",
       "      <th>MSE</th>\n",
       "      <th>MAE</th>\n",
       "      <th>SMAPE</th>\n",
       "    </tr>\n",
       "  </thead>\n",
       "  <tbody>\n",
       "    <tr>\n",
       "      <th>0</th>\n",
       "      <td>Informer</td>\n",
       "      <td>0.000362</td>\n",
       "      <td>0.013417</td>\n",
       "      <td>4.867417</td>\n",
       "    </tr>\n",
       "    <tr>\n",
       "      <th>1</th>\n",
       "      <td>Autoformer</td>\n",
       "      <td>0.000643</td>\n",
       "      <td>0.020043</td>\n",
       "      <td>6.777182</td>\n",
       "    </tr>\n",
       "    <tr>\n",
       "      <th>2</th>\n",
       "      <td>PatchTST</td>\n",
       "      <td>0.006596</td>\n",
       "      <td>0.068500</td>\n",
       "      <td>21.675415</td>\n",
       "    </tr>\n",
       "  </tbody>\n",
       "</table>\n",
       "</div>"
      ],
      "text/plain": [
       "        Model       MSE       MAE      SMAPE\n",
       "0    Informer  0.000362  0.013417   4.867417\n",
       "1  Autoformer  0.000643  0.020043   6.777182\n",
       "2    PatchTST  0.006596  0.068500  21.675415"
      ]
     },
     "execution_count": 7,
     "metadata": {},
     "output_type": "execute_result"
    }
   ],
   "source": [
    "results = []\n",
    "results.append(evaluate_loaded_model(informer_model, 'Informer'))\n",
    "results.append(evaluate_loaded_model(autoformer_model, 'Autoformer'))\n",
    "# Preprocess input for PatchTST model\n",
    "def evaluate_patchtst_model(model, model_name):\n",
    "\tpreds, trues = [], []\n",
    "\tfor x, y in dataloader:\n",
    "\t\tx, y = x.to(device), y.numpy()\n",
    "\t\t# Reshape input into patches for PatchTST\n",
    "\t\tx = rearrange(x, 'b (p s) 1 -> b p s', p=x.shape[1] // 8)  # Ensure patch size matches input dimensions\n",
    "\t\twith torch.no_grad():\n",
    "\t\t\tpred = model(x).cpu().numpy()\n",
    "\t\tpreds.append(pred)\n",
    "\t\ttrues.append(y)\n",
    "\tpreds = np.concatenate(preds).squeeze()\n",
    "\ttrues = np.concatenate(trues)\n",
    "\tmse = mean_squared_error(trues, preds)\n",
    "\tmae = mean_absolute_error(trues, preds)\n",
    "\ts_mape = smape(trues, preds)\n",
    "\treturn {'Model': model_name, 'MSE': mse, 'MAE': mae, 'SMAPE': s_mape}\n",
    "\n",
    "results.append(evaluate_patchtst_model(patchtst_model, 'PatchTST'))\n",
    "\n",
    "results_df = pd.DataFrame(results)\n",
    "results_df"
   ]
  },
  {
   "cell_type": "code",
   "execution_count": 8,
   "metadata": {},
   "outputs": [
    {
     "name": "stdout",
     "output_type": "stream",
     "text": [
      "✅ Plot saved to ../../outputs/metrics/transformer_comparison_results.png\n"
     ]
    },
    {
     "data": {
      "image/png": "[encoded data removed]",
      "text/plain": [
       "<Figure size 1800x500 with 3 Axes>"
      ]
     },
     "metadata": {},
     "output_type": "display_data"
    },
    {
     "name": "stdout",
     "output_type": "stream",
     "text": [
      "✅ Results saved to ../../outputs/metrics/transformer_comparison_results.csv\n",
      "✅ GPU memory cleared\n"
     ]
    }
   ],
   "source": [
    "# 📊 Plot all metrics\n",
    "metrics = ['MSE', 'MAE', 'SMAPE']\n",
    "colors = ['skyblue', 'salmon', 'limegreen']\n",
    "\n",
    "fig, axs = plt.subplots(1, 3, figsize=(18, 5))\n",
    "\n",
    "for i, metric in enumerate(metrics):\n",
    "    axs[i].bar(results_df['Model'], results_df[metric], color=colors)\n",
    "    axs[i].set_title(f'{metric} Comparison')\n",
    "    axs[i].set_ylabel(metric)\n",
    "    axs[i].grid(True)\n",
    "\n",
    "plt.suptitle('Transformer Models Comparison on IoT Forecasting', fontsize=16)\n",
    "plt.tight_layout()\n",
    "plt.savefig('../../outputs/metrics/transformer_comparison_results.png')\n",
    "print(\"✅ Plot saved to ../../outputs/metrics/transformer_comparison_results.png\")\n",
    "plt.show()\n",
    "\n",
    "# Save the results to a CSV file\n",
    "results_df.to_csv('../../outputs/metrics/transformer_comparison_results.csv', index=False)\n",
    "print(\"✅ Results saved to ../../outputs/metrics/transformer_comparison_results.csv\")\n",
    "\n",
    "\n",
    "# Close the plot\n",
    "plt.close()\n",
    "\n",
    "# Clear GPU memory\n",
    "torch.cuda.empty_cache()\n",
    "print(\"✅ GPU memory cleared\")"
   ]
  }
 ],
 "metadata": {
  "kernelspec": {
   "display_name": "venv",
   "language": "python",
   "name": "python3"
  },
  "language_info": {
   "codemirror_mode": {
    "name": "ipython",
    "version": 3
   },
   "file_extension": ".py",
   "mimetype": "text/x-python",
   "name": "python",
   "nbconvert_exporter": "python",
   "pygments_lexer": "ipython3",
   "version": "3.13.3"
  }
 },
 "nbformat": 4,
 "nbformat_minor": 2
}
