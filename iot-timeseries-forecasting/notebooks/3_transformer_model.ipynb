{
 "cells": [
  {
   "cell_type": "code",
   "execution_count": 5,
   "id": "94fad67b",
   "metadata": {},
   "outputs": [],
   "source": [
    "# Import necessary libraries\n",
    "import torch\n",
    "import pandas as pd\n",
    "from sklearn.preprocessing import MinMaxScaler\n",
    "from torch.utils.data import DataLoader\n",
    "import numpy as np\n",
    "import matplotlib.pyplot as plt\n",
    "from sklearn.metrics import mean_squared_error, mean_absolute_error\n",
    "\n",
    "\n",
    " # Add the parent directory to the Python path\n",
    " # to handle ModuleNotFoundError: No module named 'models' error\n",
    "import sys\n",
    "sys.path.append('../') \n",
    "\n",
    "from models.timeseries_dataset_class import TimeSeriesDataset\n"
   ]
  },
  {
   "cell_type": "code",
   "execution_count": 6,
   "id": "d754327b",
   "metadata": {},
   "outputs": [],
   "source": [
    "# Load preprocessed data\n",
    "processed_data_path = '../data/processed/etth1_processed.csv'  # Adjust path if needed\n",
    "df = pd.read_csv(processed_data_path, index_col='date', parse_dates=True)"
   ]
  },
  {
   "cell_type": "code",
   "execution_count": 7,
   "id": "e5ef21d4",
   "metadata": {},
   "outputs": [],
   "source": [
    "\n",
    "# Ensure the data is properly scaled and interpolated\n",
    "scaler = MinMaxScaler()\n",
    "scaled_data = scaler.fit_transform(df)\n",
    "scaled_df = pd.DataFrame(scaled_data, index=df.index, columns=df.columns)"
   ]
  },
  {
   "cell_type": "code",
   "execution_count": null,
   "id": "8d07d575",
   "metadata": {},
   "outputs": [],
   "source": [
    "# Prepare the data (e.g., using 'OT' column as the target)\n",
    "window_size = 48  # predict next hour using past 48\n",
    "batch_size = 32\n",
    "target_series = scaled_df['OT']  # You can adjust this column name based on your data\n",
    "train_dataset = TimeSeriesDataset(target_series, window_size)\n",
    "train_loader = DataLoader(train_dataset, batch_size=batch_size, shuffle=True)"
   ]
  },
  {
   "cell_type": "code",
   "execution_count": 9,
   "id": "25901676",
   "metadata": {},
   "outputs": [],
   "source": [
    "# Define the Transformer model (You can replace this with actual Informer/PatchTST model)\n",
    "class TransformerModel(torch.nn.Module):\n",
    "    def __init__(self, input_size=1, hidden_size=64):\n",
    "        super(TransformerModel, self).__init__()\n",
    "        self.lstm = torch.nn.LSTM(input_size, hidden_size, batch_first=True)  # Use LSTM as a placeholder\n",
    "        self.fc = torch.nn.Linear(hidden_size, 1)\n",
    "\n",
    "    def forward(self, x):\n",
    "        out, _ = self.lstm(x.unsqueeze(-1))  # Adding the required dimension for LSTM\n",
    "        return self.fc(out[:, -1, :])  # Output the last hidden state"
   ]
  },
  {
   "cell_type": "code",
   "execution_count": 10,
   "id": "7a76f5b2",
   "metadata": {},
   "outputs": [],
   "source": [
    "\n",
    "# Initialize model, optimizer, and loss function\n",
    "model = TransformerModel()  # Replace with actual Informer/PatchTST model\n",
    "optimizer = torch.optim.Adam(model.parameters(), lr=1e-4)\n",
    "loss_fn = torch.nn.MSELoss()"
   ]
  },
  {
   "cell_type": "code",
   "execution_count": null,
   "id": "9efe6782",
   "metadata": {},
   "outputs": [],
   "source": [
    "# Training loop\n",
    "num_epochs = 10\n",
    "for epoch in range(num_epochs):\n",
    "    model.train()\n",
    "    epoch_loss = 0\n",
    "    for x, y in train_loader:\n",
    "        # Forward pass\n",
    "        pred = model(x)\n",
    "        loss = loss_fn(pred, y.unsqueeze(-1))  # Ensure y has correct shape\n",
    "        \n",
    "        # Backward pass\n",
    "        optimizer.zero_grad()\n",
    "        loss.backward()\n",
    "        optimizer.step()\n",
    "\n",
    "        epoch_loss += loss.item()\n",
    "\n",
    "    print(f\"Epoch {epoch+1}/{num_epochs}, Loss: {epoch_loss/len(train_loader):.4f}\")\n",
    "\n",
    "# Save the trained model\n",
    "torch.save(model.state_dict(), '../models/checkpoints/transformer_model.pth')"
   ]
  },
  {
   "cell_type": "code",
   "execution_count": 10,
   "id": "4ea0fd28",
   "metadata": {},
   "outputs": [],
   "source": [
    "# Evaluation\n",
    "model.eval()\n",
    "predictions = []\n",
    "true_values = []\n",
    "with torch.no_grad():\n",
    "    for x, y in train_loader:\n",
    "        pred = model(x)\n",
    "        predictions.append(pred.numpy())\n",
    "        true_values.append(y.numpy())\n",
    "\n",
    "predictions = np.concatenate(predictions, axis=0)\n",
    "true_values = np.concatenate(true_values, axis=0)\n",
    "\n",
    "# Inverse transform predictions and true values\n",
    "# Add dummy columns to match the scaler's expected input shape\n",
    "dummy_shape = (predictions.shape[0], scaled_df.shape[1])  # Match the number of columns in the original data\n",
    "predictions_full = np.zeros(dummy_shape)\n",
    "true_values_full = np.zeros(dummy_shape)\n",
    "\n",
    "# Fill the relevant column (e.g., 'OT') with predictions and true values\n",
    "predictions_full[:, -1] = predictions.flatten()\n",
    "true_values_full[:, -1] = true_values.flatten()\n",
    "\n",
    "# Apply inverse transform\n",
    "predictions = scaler.inverse_transform(predictions_full)[:, -1]  # Extract the 'OT' column\n",
    "true_values = scaler.inverse_transform(true_values_full)[:, -1]  # Extract the 'OT' column"
   ]
  },
  {
   "cell_type": "code",
   "execution_count": null,
   "id": "ea464b1b",
   "metadata": {},
   "outputs": [],
   "source": [
    "\n",
    "# Calculate metrics\n",
    "mse = mean_squared_error(true_values, predictions)\n",
    "mae = mean_absolute_error(true_values, predictions)\n",
    "print(f\"MSE: {mse:.4f}, MAE: {mae:.4f}\")\n",
    "\n",
    "# Plot the results for comparison\n",
    "plt.figure(figsize=(12, 6))\n",
    "plt.plot(true_values, label=\"True Values\")\n",
    "plt.plot(predictions, label=\"Predicted Values\")\n",
    "plt.legend()\n",
    "plt.title(\"Transformer Model Forecast vs True Values\")\n",
    "plt.show()\n",
    "\n",
    "# Save the results for comparison\n",
    "results = pd.DataFrame({\n",
    "    \"True Values\": true_values.flatten(),\n",
    "    \"Predictions\": predictions.flatten()\n",
    "})\n",
    "\n",
    "results.to_csv('../models/metrics/transformer_metrics.csv', index=False)\n",
    "print(\"Results saved to transformer_predictions.csv\")\n",
    "\n",
    "#save as png\n",
    "plt.savefig(\"../models/metrics/transformer_metrics.png\")\n",
    "print(\"Plot saved to ../models/metrics/transformer_metrics.png\")\n"
   ]
  }
 ],
 "metadata": {
  "kernelspec": {
   "display_name": "venv",
   "language": "python",
   "name": "python3"
  },
  "language_info": {
   "codemirror_mode": {
    "name": "ipython",
    "version": 3
   },
   "file_extension": ".py",
   "mimetype": "text/x-python",
   "name": "python",
   "nbconvert_exporter": "python",
   "pygments_lexer": "ipython3",
   "version": "3.13.3"
  }
 },
 "nbformat": 4,
 "nbformat_minor": 5
}
