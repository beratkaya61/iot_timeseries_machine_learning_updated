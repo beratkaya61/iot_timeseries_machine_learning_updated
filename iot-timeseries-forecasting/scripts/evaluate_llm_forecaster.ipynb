{
 "cells": [
  {
   "cell_type": "code",
   "execution_count": 2,
   "metadata": {},
   "outputs": [
    {
     "name": "stderr",
     "output_type": "stream",
     "text": [
      "/Users/beratburakkaya/Documents/makine_öğrenmesi_yüksek_lisans_ders/technical_studies/iot_timeseries_machine_learning-1/venv/lib/python3.13/site-packages/tqdm/auto.py:21: TqdmWarning: IProgress not found. Please update jupyter and ipywidgets. See https://ipywidgets.readthedocs.io/en/stable/user_install.html\n",
      "  from .autonotebook import tqdm as notebook_tqdm\n"
     ]
    }
   ],
   "source": [
    "from transformers import AutoTokenizer, AutoModelForCausalLM\n",
    "import torch\n",
    "import pandas as pd\n",
    "from sklearn.metrics import mean_squared_error, mean_absolute_error\n",
    "import numpy as np\n",
    "import matplotlib.pyplot as plt\n",
    "\n",
    "device = torch.device(\"mps\") if torch.backends.mps.is_available() else torch.device(\"cpu\")\n",
    "\n",
    "OUTPUT_DIR = \"../models/llm_forecaster/\"\n",
    "VAL_FILE = \"../data/llm_preprocessed/val.csv\"\n"
   ]
  },
  {
   "cell_type": "code",
   "execution_count": 4,
   "metadata": {},
   "outputs": [
    {
     "data": {
      "text/plain": [
       "GPT2LMHeadModel(\n",
       "  (transformer): GPT2Model(\n",
       "    (wte): Embedding(50257, 768)\n",
       "    (wpe): Embedding(1024, 768)\n",
       "    (drop): Dropout(p=0.1, inplace=False)\n",
       "    (h): ModuleList(\n",
       "      (0-11): 12 x GPT2Block(\n",
       "        (ln_1): LayerNorm((768,), eps=1e-05, elementwise_affine=True)\n",
       "        (attn): GPT2Attention(\n",
       "          (c_attn): Conv1D(nf=2304, nx=768)\n",
       "          (c_proj): Conv1D(nf=768, nx=768)\n",
       "          (attn_dropout): Dropout(p=0.1, inplace=False)\n",
       "          (resid_dropout): Dropout(p=0.1, inplace=False)\n",
       "        )\n",
       "        (ln_2): LayerNorm((768,), eps=1e-05, elementwise_affine=True)\n",
       "        (mlp): GPT2MLP(\n",
       "          (c_fc): Conv1D(nf=3072, nx=768)\n",
       "          (c_proj): Conv1D(nf=768, nx=3072)\n",
       "          (act): NewGELUActivation()\n",
       "          (dropout): Dropout(p=0.1, inplace=False)\n",
       "        )\n",
       "      )\n",
       "    )\n",
       "    (ln_f): LayerNorm((768,), eps=1e-05, elementwise_affine=True)\n",
       "  )\n",
       "  (lm_head): Linear(in_features=768, out_features=50257, bias=False)\n",
       ")"
      ]
     },
     "execution_count": 4,
     "metadata": {},
     "output_type": "execute_result"
    }
   ],
   "source": [
    "# Load fine-tuned model\n",
    "\n",
    "tokenizer = AutoTokenizer.from_pretrained(OUTPUT_DIR)\n",
    "model = AutoModelForCausalLM.from_pretrained(OUTPUT_DIR).to(device)\n",
    "\n",
    "model.eval()"
   ]
  },
  {
   "cell_type": "code",
   "execution_count": 5,
   "metadata": {},
   "outputs": [
    {
     "name": "stdout",
     "output_type": "stream",
     "text": [
      "                                              prompt            completion\n",
      "0  Given past values: [0.3047697082252015, 0.3117...  [0.2485874626185448]\n",
      "1  Given past values: [0.5322937958941605, 0.5322...  [0.5421366699247255]\n",
      "2  Given past values: [0.4985924416716777, 0.5322...  [0.5435342320660694]\n",
      "3  Given past values: [0.7078683091284076, 0.7359...  [0.6924151941585102]\n",
      "4  Given past values: [0.2345518831235917, 0.2275...  [0.2120709917394176]\n"
     ]
    }
   ],
   "source": [
    "# Load your real target\n",
    "\n",
    "df = pd.read_csv(VAL_FILE)\n",
    "\n",
    "#show the first 5 rows\n",
    "print(df.head())\n",
    "\n",
    "# Extract the 'completion' column and convert it to a list of floats\n",
    "target = df['completion'].apply(lambda x: float(x.strip('[]'))).tolist()\n",
    "\n",
    "window_size = 10\n",
    "stride = 1\n",
    "\n",
    "def create_prompt(input_series):\n",
    "    return f\"Given past values: {input_series}, predict next 1 value(s):\""
   ]
  },
  {
   "cell_type": "code",
   "execution_count": 6,
   "metadata": {},
   "outputs": [
    {
     "name": "stdout",
     "output_type": "stream",
     "text": [
      "Processed 0/3482 points\n",
      "Processed 100/3482 points\n",
      "Processed 200/3482 points\n",
      "Processed 300/3482 points\n",
      "Processed 400/3482 points\n",
      "Processed 500/3482 points\n",
      "Processed 600/3482 points\n",
      "Processed 700/3482 points\n",
      "Processed 800/3482 points\n",
      "Processed 900/3482 points\n",
      "Processed 1000/3482 points\n",
      "Processed 1100/3482 points\n",
      "Processed 1200/3482 points\n",
      "Processed 1300/3482 points\n",
      "Processed 1400/3482 points\n",
      "Processed 1500/3482 points\n",
      "Processed 1600/3482 points\n",
      "Processed 1700/3482 points\n",
      "Processed 1800/3482 points\n",
      "Processed 1900/3482 points\n",
      "Processed 2000/3482 points\n",
      "Processed 2100/3482 points\n",
      "Processed 2200/3482 points\n",
      "Processed 2300/3482 points\n",
      "Processed 2400/3482 points\n",
      "Processed 2500/3482 points\n",
      "Processed 2600/3482 points\n",
      "Processed 2700/3482 points\n",
      "Processed 2800/3482 points\n",
      "Processed 2900/3482 points\n",
      "Processed 3000/3482 points\n",
      "Processed 3100/3482 points\n",
      "Processed 3200/3482 points\n",
      "Processed 3300/3482 points\n",
      "Processed 3400/3482 points\n"
     ]
    }
   ],
   "source": [
    "\n",
    "preds = []\n",
    "trues = []\n",
    "\n",
    "for i in range(0, len(target) - window_size - 1, stride):\n",
    "    input_series = target[i:i+window_size]\n",
    "    true_value = target[i+window_size]\n",
    "\n",
    "    prompt = create_prompt(input_series)\n",
    "    inputs = tokenizer(prompt, return_tensors=\"pt\").to(device)\n",
    "\n",
    "    with torch.no_grad():\n",
    "        output = model.generate(\n",
    "            **inputs,\n",
    "            max_length=inputs['input_ids'].shape[1] + 10, \n",
    "            do_sample=False,        \n",
    "            pad_token_id=tokenizer.eos_token_id  # 👈 Add this! to avoid \"Setting `pad_token_id` to `eos_token_id`:50256 for open-end generation.\" warning\n",
    ")\n",
    "\n",
    "    generated = tokenizer.decode(output[0])\n",
    "    try:\n",
    "        prediction_text = generated[len(prompt):].strip().split()[0]\n",
    "        prediction_value = float(prediction_text.replace(\",\", \"\").replace(\"[\", \"\").replace(\"]\", \"\"))\n",
    "    except:\n",
    "        prediction_value = input_series[-1]\n",
    "\n",
    "    preds.append(prediction_value)\n",
    "    trues.append(true_value)\n",
    "\n",
    "    if i % 100 == 0:\n",
    "        print(f\"Processed {i}/{len(target)} points\")"
   ]
  },
  {
   "cell_type": "code",
   "execution_count": 7,
   "metadata": {},
   "outputs": [
    {
     "name": "stdout",
     "output_type": "stream",
     "text": [
      "Evaluation results saved as PNG to ../../outputs/llm_forecaster_evaluation_results.png\n"
     ]
    }
   ],
   "source": [
    "\n",
    "# Create a figure for the evaluation results\n",
    "fig, ax = plt.subplots(figsize=(6, 4))\n",
    "ax.axis('off')  # Turn off the axes\n",
    "\n",
    "\n",
    "# Calculate metrics\n",
    "mse = mean_squared_error(trues, preds)\n",
    "mae = mean_absolute_error(trues, preds)\n",
    "smape = np.mean(2 * np.abs(np.array(preds) - np.array(trues)) / (np.abs(preds) + np.abs(trues))) * 100\n",
    "\n",
    "# Add text with evaluation metrics\n",
    "text = f\"MSE: {mse:.6f}\\nMAE: {mae:.6f}\\nSMAPE: {smape:.2f}%\"\n",
    "ax.text(0.5, 0.5, text, fontsize=12, ha='center', va='center', wrap=True)\n",
    "\n",
    "# Save the figure as a PNG file\n",
    "output_png_path = \"../../outputs/llm_forecaster_evaluation_results.png\"\n",
    "plt.savefig(output_png_path, bbox_inches='tight')\n",
    "plt.close()\n",
    "\n",
    "print(f\"Evaluation results saved as PNG to {output_png_path}\")"
   ]
  }
 ],
 "metadata": {
  "kernelspec": {
   "display_name": "venv",
   "language": "python",
   "name": "python3"
  },
  "language_info": {
   "codemirror_mode": {
    "name": "ipython",
    "version": 3
   },
   "file_extension": ".py",
   "mimetype": "text/x-python",
   "name": "python",
   "nbconvert_exporter": "python",
   "pygments_lexer": "ipython3",
   "version": "3.13.3"
  }
 },
 "nbformat": 4,
 "nbformat_minor": 2
}
