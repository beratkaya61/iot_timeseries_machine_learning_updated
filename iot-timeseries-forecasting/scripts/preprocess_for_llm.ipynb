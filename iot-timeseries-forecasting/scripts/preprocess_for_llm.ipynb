{
 "cells": [
  {
   "cell_type": "code",
   "execution_count": 3,
   "metadata": {},
   "outputs": [],
   "source": [
    "# preprocess_for_llm.py\n",
    "\n",
    "import pandas as pd\n",
    "import os\n",
    "from sklearn.model_selection import train_test_split\n",
    "\n",
    "INPUT_FILE = \"../data/processed/etth1_processed.csv\"  # <-- your data\n",
    "OUTPUT_DIR = \"../data/llm_preprocessed/\"\n",
    "WINDOW_SIZE = 10  # how many past points to use\n",
    "PREDICT_SIZE = 1  # how many future points to predict\n",
    "\n",
    "os.makedirs(OUTPUT_DIR, exist_ok=True)"
   ]
  },
  {
   "cell_type": "code",
   "execution_count": 4,
   "metadata": {},
   "outputs": [],
   "source": [
    "# 1. Load\n",
    "df = pd.read_csv(INPUT_FILE)\n",
    "\n",
    "# Assuming your timeseries column is named 'OT'\n",
    "values = df['OT'].tolist()"
   ]
  },
  {
   "cell_type": "code",
   "execution_count": 5,
   "metadata": {},
   "outputs": [],
   "source": [
    "\n",
    "# 2. Create prompt-target pairs\n",
    "inputs = []\n",
    "targets = []\n",
    "\n",
    "for i in range(len(values) - WINDOW_SIZE - PREDICT_SIZE):\n",
    "    input_seq = values[i : i + WINDOW_SIZE]\n",
    "    target_seq = values[i + WINDOW_SIZE : i + WINDOW_SIZE + PREDICT_SIZE]\n",
    "    \n",
    "    prompt = f\"Given past values: {input_seq}, predict next {PREDICT_SIZE} value(s):\"\n",
    "    target = str(target_seq)\n",
    "    \n",
    "    inputs.append(prompt)\n",
    "    targets.append(target)\n"
   ]
  },
  {
   "cell_type": "code",
   "execution_count": 6,
   "metadata": {},
   "outputs": [
    {
     "name": "stdout",
     "output_type": "stream",
     "text": [
      "Sample input-output pairs:\n",
      "Input: Given past values: [0.6910176320171663, 0.6362329675922095, 0.6362329675922095, 0.5814682574604971, 0.5196557975809077, 0.5042026826110102, 0.5365064746921488, 0.5435342320660694, 0.5140455566415751, 0.4297721787114119], predict next 1 value(s):\n",
      "Target: [0.4803442024190923]\n",
      "\n",
      "Input: Given past values: [0.6362329675922095, 0.6362329675922095, 0.5814682574604971, 0.5196557975809077, 0.5042026826110102, 0.5365064746921488, 0.5435342320660694, 0.5140455566415751, 0.4297721787114119, 0.4803442024190923], predict next 1 value(s):\n",
      "Target: [0.4831393267017803]\n",
      "\n",
      "Input: Given past values: [0.6362329675922095, 0.5814682574604971, 0.5196557975809077, 0.5042026826110102, 0.5365064746921488, 0.5435342320660694, 0.5140455566415751, 0.4297721787114119, 0.4803442024190923, 0.4831393267017803], predict next 1 value(s):\n",
      "Target: [0.464891087449195]\n",
      "\n",
      "Input: Given past values: [0.5814682574604971, 0.5196557975809077, 0.5042026826110102, 0.5365064746921488, 0.5435342320660694, 0.5140455566415751, 0.4297721787114119, 0.4803442024190923, 0.4831393267017803, 0.464891087449195], predict next 1 value(s):\n",
      "Target: [0.4522530891359421]\n",
      "\n",
      "Input: Given past values: [0.5196557975809077, 0.5042026826110102, 0.5365064746921488, 0.5435342320660694, 0.5140455566415751, 0.4297721787114119, 0.4803442024190923, 0.4831393267017803, 0.464891087449195, 0.4522530891359421], predict next 1 value(s):\n",
      "Target: [0.4718988905298713]\n",
      "\n"
     ]
    }
   ],
   "source": [
    "#show some part of traind and test data\n",
    "print(\"Sample input-output pairs:\")\n",
    "for i in range(5):\n",
    "    print(f\"Input: {inputs[i]}\")\n",
    "    print(f\"Target: {targets[i]}\")\n",
    "    print()\n"
   ]
  },
  {
   "cell_type": "code",
   "execution_count": 7,
   "metadata": {},
   "outputs": [],
   "source": [
    "# 3. Split into train/test\n",
    "train_inputs, val_inputs, train_targets, val_targets = train_test_split(inputs, targets, test_size=0.2, random_state=42)"
   ]
  },
  {
   "cell_type": "code",
   "execution_count": 8,
   "metadata": {},
   "outputs": [
    {
     "name": "stdout",
     "output_type": "stream",
     "text": [
      "✅ Preprocessing done! 13927 train samples, 3482 val samples saved at ../data/llm_preprocessed/\n"
     ]
    }
   ],
   "source": [
    "# 4. Save\n",
    "pd.DataFrame({\"prompt\": train_inputs, \"completion\": train_targets}).to_csv(f\"{OUTPUT_DIR}/train.csv\", index=False)\n",
    "pd.DataFrame({\"prompt\": val_inputs, \"completion\": val_targets}).to_csv(f\"{OUTPUT_DIR}/val.csv\", index=False)\n",
    "\n",
    "print(f\"✅ Preprocessing done! {len(train_inputs)} train samples, {len(val_inputs)} val samples saved at {OUTPUT_DIR}\")"
   ]
  }
 ],
 "metadata": {
  "kernelspec": {
   "display_name": ".venv",
   "language": "python",
   "name": "python3"
  },
  "language_info": {
   "codemirror_mode": {
    "name": "ipython",
    "version": 3
   },
   "file_extension": ".py",
   "mimetype": "text/x-python",
   "name": "python",
   "nbconvert_exporter": "python",
   "pygments_lexer": "ipython3",
   "version": "3.11.5"
  }
 },
 "nbformat": 4,
 "nbformat_minor": 2
}
